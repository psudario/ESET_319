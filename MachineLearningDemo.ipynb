{
  "nbformat": 4,
  "nbformat_minor": 0,
  "metadata": {
    "colab": {
      "name": "MachineLearningDemo",
      "provenance": [],
      "collapsed_sections": []
    },
    "kernelspec": {
      "name": "python3",
      "display_name": "Python 3"
    },
    "accelerator": "GPU"
  },
  "cells": [
    {
      "cell_type": "markdown",
      "metadata": {
        "id": "LZnBEe2pKg3S"
      },
      "source": [
        "Introduction to Machine Learning image classification\n",
        "\n",
        "https://www.tensorflow.org/tutorials/keras/classification\n",
        "\n",
        "Edit -> Notebook settings -> Select GPU as the hardware accelerator in the drop down menu"
      ]
    },
    {
      "cell_type": "code",
      "metadata": {
        "id": "dSNbo780II6P"
      },
      "source": [
        "import tensorflow as tf\n",
        "import numpy as np\n",
        "import matplotlib.pyplot as plt"
      ],
      "execution_count": 1,
      "outputs": []
    },
    {
      "cell_type": "markdown",
      "metadata": {
        "id": "k-CJsYc1KgDM"
      },
      "source": [
        "Import the Fashion MNIST dataset"
      ]
    },
    {
      "cell_type": "code",
      "metadata": {
        "id": "m239T3DkLmqz"
      },
      "source": [
        "#import mnist data - 70,000 grayscale images in 10 categories\n",
        "fashion_mnist = tf.keras.datasets.fashion_mnist\n",
        "#assign 60,000 for training, 10,000 for testing\n",
        "(train_images, train_labels), (test_images, test_labels) = fashion_mnist.load_data()\n",
        "#loading the dataset returns four NumPy arrays\n",
        "#images are 28x28 NumPy arrays, with pixel values ranging from 0 to 255\n",
        "#labels are an array of integers, ranging from 0 to 9. Assign names to them\n",
        "class_names = ['T-shirt/top', 'Trouser', 'Pullover', 'Dress', 'Coat', 'Sandal', 'Shirt', 'Sneaker', 'Bag', 'Ankle boot']"
      ],
      "execution_count": null,
      "outputs": []
    },
    {
      "cell_type": "code",
      "metadata": {
        "id": "-v6YgLM_Lz4x"
      },
      "source": [
        "#preprocess the data, needs to scale pixel values from 0-255 -> 0-1\n",
        "plt.figure()\n",
        "plt.imshow(train_images[0])\n",
        "plt.colorbar()\n",
        "plt.grid(False)\n",
        "plt.show()\n",
        "\n",
        "train_images = train_images / 255.0\n",
        "test_images = test_images / 255.0"
      ],
      "execution_count": null,
      "outputs": []
    },
    {
      "cell_type": "markdown",
      "metadata": {
        "id": "gKPqkJWBNDK7"
      },
      "source": [
        "Build the model"
      ]
    },
    {
      "cell_type": "code",
      "metadata": {
        "id": "FaNf522oNGZL"
      },
      "source": [
        "#set up the layers\n",
        "model = tf.keras.Sequential([\n",
        "    tf.keras.layers.Flatten(input_shape=(28,28)),   #convert 28*28 matrix to one-dimensional array of 784\n",
        "    tf.keras.layers.Dense(128, activation='relu'),  #rectified linear unit activation function\n",
        "    tf.keras.layers.Dense(10)                       #logits array of 10, representing the probability that the image matches each label\n",
        "])"
      ],
      "execution_count": 4,
      "outputs": []
    },
    {
      "cell_type": "code",
      "metadata": {
        "id": "g0VG3DG8NO8r"
      },
      "source": [
        "#compile the model\n",
        "model.compile(optimizer='adam',     #stochastic gradient descent method based on adaptive estimation of first-order and second-order moments\n",
        "              loss=tf.keras.losses.SparseCategoricalCrossentropy(from_logits=True), #computes the crossentropy loss between the predictions and labels\n",
        "              metrics=['accuracy'])"
      ],
      "execution_count": 5,
      "outputs": []
    },
    {
      "cell_type": "markdown",
      "metadata": {
        "id": "p0crTHiINfml"
      },
      "source": [
        "Train the model"
      ]
    },
    {
      "cell_type": "code",
      "metadata": {
        "id": "ecYJxb47NhRE"
      },
      "source": [
        "#train the model with the training data\n",
        "model.fit(train_images, train_labels, epochs=10)   #epochs=number of iterations over the dataset"
      ],
      "execution_count": null,
      "outputs": []
    },
    {
      "cell_type": "code",
      "metadata": {
        "id": "-zpYMqoyOAzs"
      },
      "source": [
        "#evaluate accuracy with the test data\n",
        "test_loss, test_acc = model.evaluate(test_images, test_labels, verbose=2)\n",
        "print('\\nTest accuracy: ', test_acc)"
      ],
      "execution_count": null,
      "outputs": []
    },
    {
      "cell_type": "code",
      "metadata": {
        "id": "OG1TCQq8OF_H"
      },
      "source": [
        "#make predictions\n",
        "probability_model = tf.keras.Sequential([model, tf.keras.layers.Softmax()]) #Softmax layer to convert logit values to percents\n",
        "predictions = probability_model.predict(test_images)"
      ],
      "execution_count": 8,
      "outputs": []
    },
    {
      "cell_type": "markdown",
      "metadata": {
        "id": "SJZesBF-Ohtx"
      },
      "source": [
        "Add functions for displaying results"
      ]
    },
    {
      "cell_type": "code",
      "metadata": {
        "id": "4hLcq5sqOZTT"
      },
      "source": [
        "def plot_image(i, predictions_array, true_label, img):\n",
        "    true_label, img = true_label[i], img[i]\n",
        "    plt.grid(False)\n",
        "    plt.xticks([])\n",
        "    plt.yticks([])\n",
        "\n",
        "    plt.imshow(img, cmap=plt.cm.binary)\n",
        "\n",
        "    predicted_label = np.argmax(predictions_array)\n",
        "    if predicted_label == true_label:\n",
        "        color = 'blue'\n",
        "    else:\n",
        "        color = 'red'\n",
        "\n",
        "    plt.xlabel(\"{} {:2.0f}% ({})\".format(class_names[predicted_label],\n",
        "                                  100*np.max(predictions_array),\n",
        "                                  class_names[true_label]),\n",
        "                                  color=color)\n",
        "\n",
        "\n",
        "def plot_value_array(i, predictions_array, true_label):\n",
        "    true_label = true_label[i]\n",
        "    plt.grid(False)\n",
        "    plt.xticks(range(10), class_names, rotation=45)\n",
        "    plt.yticks([])\n",
        "    thisplot = plt.bar(range(10), predictions_array, color=\"#777777\")\n",
        "    plt.ylim([0, 1])\n",
        "    predicted_label = np.argmax(predictions_array)\n",
        "\n",
        "    thisplot[predicted_label].set_color('red')\n",
        "    thisplot[true_label].set_color('blue')"
      ],
      "execution_count": 9,
      "outputs": []
    },
    {
      "cell_type": "markdown",
      "metadata": {
        "id": "JNqEW3oqWm0w"
      },
      "source": [
        "Plot the results"
      ]
    },
    {
      "cell_type": "code",
      "metadata": {
        "id": "rgBfbhRjPEkB"
      },
      "source": [
        "#Plot first prediction for proof of concept\n",
        "print('Testing first predicted image')\n",
        "test = 0\n",
        "plt.figure(figsize=(6,3))\n",
        "plt.subplot(1,2,1)\n",
        "plot_image(test, predictions[test], test_labels, test_images)\n",
        "plt.subplot(1,2,2)\n",
        "plot_value_array(test, predictions[test],  test_labels)\n",
        "plt.show()"
      ],
      "execution_count": null,
      "outputs": []
    },
    {
      "cell_type": "code",
      "metadata": {
        "id": "Z7QeC5oqS-ni"
      },
      "source": [
        "# Plot the first X test images, their predicted labels, and the true labels.\n",
        "# Color correct predictions in blue and incorrect predictions in red.\n",
        "num_rows = 5\n",
        "num_cols = 3\n",
        "num_images = num_rows*num_cols\n",
        "plt.figure(figsize=(2*2*num_cols, 2*num_rows))\n",
        "for i in range(num_images):\n",
        "  plt.subplot(num_rows, 2*num_cols, 2*i+1)\n",
        "  plot_image(i, predictions[i], test_labels, test_images)\n",
        "  plt.subplot(num_rows, 2*num_cols, 2*i+2)\n",
        "  plot_value_array(i, predictions[i], test_labels)\n",
        "plt.tight_layout()\n",
        "plt.show()"
      ],
      "execution_count": null,
      "outputs": []
    },
    {
      "cell_type": "code",
      "metadata": {
        "id": "f0ON_NesU-YV"
      },
      "source": [
        "#Plot user selected prediction\n",
        "test = int(input('\\nSelect the image to predict (1-10,000): ')) -1\n",
        "plt.figure(figsize=(6,3))\n",
        "plt.subplot(1,2,1)\n",
        "plot_image(test, predictions[test], test_labels, test_images)\n",
        "plt.subplot(1,2,2)\n",
        "plot_value_array(test, predictions[test],  test_labels)\n",
        "plt.show()"
      ],
      "execution_count": null,
      "outputs": []
    }
  ]
}